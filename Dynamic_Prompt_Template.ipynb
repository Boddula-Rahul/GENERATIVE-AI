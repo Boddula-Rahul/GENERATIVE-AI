{
  "nbformat": 4,
  "nbformat_minor": 0,
  "metadata": {
    "colab": {
      "provenance": []
    },
    "kernelspec": {
      "name": "python3",
      "display_name": "Python 3"
    },
    "language_info": {
      "name": "python"
    }
  },
  "cells": [
    {
      "cell_type": "code",
      "execution_count": null,
      "metadata": {
        "id": "Kk-zmLtFUYcF"
      },
      "outputs": [],
      "source": [
        "import langchain"
      ]
    },
    {
      "cell_type": "markdown",
      "source": [],
      "metadata": {
        "id": "00oJXIYzVHbJ"
      }
    },
    {
      "cell_type": "code",
      "source": [
        "from langchain.prompts import PromptTemplate"
      ],
      "metadata": {
        "id": "E29wmPqiUk7m"
      },
      "execution_count": null,
      "outputs": []
    },
    {
      "cell_type": "code",
      "source": [
        "prompt = PromptTemplate(\n",
        "\n",
        "               input_variables = [\"language1\" ,\"language2\", \"sentence\"],\n",
        "               template = \"Translate this {language1} sentence to {language2} : {sentence}\"\n",
        ")"
      ],
      "metadata": {
        "id": "2-NBKYGFUpo0"
      },
      "execution_count": null,
      "outputs": []
    },
    {
      "cell_type": "code",
      "source": [
        "prompt"
      ],
      "metadata": {
        "colab": {
          "base_uri": "https://localhost:8080/"
        },
        "id": "aW-Ub0fRWJ14",
        "outputId": "4c890daf-e541-4076-bc9f-b56b77d05b34"
      },
      "execution_count": null,
      "outputs": [
        {
          "output_type": "execute_result",
          "data": {
            "text/plain": [
              "PromptTemplate(input_variables=['language1', 'language2', 'sentence'], input_types={}, partial_variables={}, template='Translate this {language1} sentence to {language2} : {sentence}')"
            ]
          },
          "metadata": {},
          "execution_count": 19
        }
      ]
    },
    {
      "cell_type": "code",
      "source": [
        "filled_prompt = prompt.format(\n",
        "\n",
        "              language1 = \"English\",\n",
        "              language2 = \"Hindi\",\n",
        "              sentence = \"Welcome to INDIA\"\n",
        ")"
      ],
      "metadata": {
        "id": "tERCLyB1WZbN"
      },
      "execution_count": null,
      "outputs": []
    },
    {
      "cell_type": "code",
      "source": [
        "filled_prompt"
      ],
      "metadata": {
        "colab": {
          "base_uri": "https://localhost:8080/",
          "height": 35
        },
        "id": "kqaSXnPBWwd6",
        "outputId": "cd84d45e-011b-4939-8be5-ff0aa7f34e4c"
      },
      "execution_count": null,
      "outputs": [
        {
          "output_type": "execute_result",
          "data": {
            "text/plain": [
              "'Translate this English sentence to Hindi : Welcome to INDIA'"
            ],
            "application/vnd.google.colaboratory.intrinsic+json": {
              "type": "string"
            }
          },
          "metadata": {},
          "execution_count": 22
        }
      ]
    },
    {
      "cell_type": "code",
      "source": [
        "lang1 = \"Hindi\"\n",
        "lang2 = \"Telugu\"\n",
        "sent = \"I love INDIA\""
      ],
      "metadata": {
        "id": "9RzKPNwHXnyd"
      },
      "execution_count": null,
      "outputs": []
    },
    {
      "cell_type": "code",
      "source": [
        "prompt"
      ],
      "metadata": {
        "colab": {
          "base_uri": "https://localhost:8080/"
        },
        "id": "AJa31n3nX-lM",
        "outputId": "27468c90-78b7-45a8-c4ed-23737abb6510"
      },
      "execution_count": null,
      "outputs": [
        {
          "output_type": "execute_result",
          "data": {
            "text/plain": [
              "PromptTemplate(input_variables=['language1', 'language2', 'sentence'], input_types={}, partial_variables={}, template='Translate this {language1} sentence to {language2} : {sentence}')"
            ]
          },
          "metadata": {},
          "execution_count": 24
        }
      ]
    },
    {
      "cell_type": "code",
      "source": [
        "var_prompt = prompt.format(\n",
        "\n",
        "              language1 = lang1,\n",
        "              language2 = lang2,\n",
        "              sentence = sent\n",
        "             )"
      ],
      "metadata": {
        "id": "nmnedni3X_UN"
      },
      "execution_count": null,
      "outputs": []
    },
    {
      "cell_type": "code",
      "source": [
        "var_prompt"
      ],
      "metadata": {
        "colab": {
          "base_uri": "https://localhost:8080/",
          "height": 35
        },
        "id": "tD7cHoLYYV2d",
        "outputId": "c1905422-ac32-44f0-d54c-c56e1ece9015"
      },
      "execution_count": null,
      "outputs": [
        {
          "output_type": "execute_result",
          "data": {
            "text/plain": [
              "'Translate this Hindi sentence to Telugu : I love INDIA'"
            ],
            "application/vnd.google.colaboratory.intrinsic+json": {
              "type": "string"
            }
          },
          "metadata": {},
          "execution_count": 27
        }
      ]
    },
    {
      "cell_type": "code",
      "source": [
        "var1 = input(\"Enter First Language\")\n",
        "var2 = input(\"Enter Second Language\")\n",
        "text = input(\"Enetr Text to Translate\")\n",
        "\n",
        "inp_prompt = prompt.format(\n",
        "\n",
        "                           language1 = var1,\n",
        "                           language2 = var2,\n",
        "                           sentence = text )\n",
        "\n",
        "print(\"_------------------------------------\")\n",
        "print(inp_prompt)"
      ],
      "metadata": {
        "colab": {
          "base_uri": "https://localhost:8080/"
        },
        "id": "BX1l2k1VYY9t",
        "outputId": "a0abe9bc-6910-4beb-86f8-d94cdefff88b"
      },
      "execution_count": null,
      "outputs": [
        {
          "output_type": "stream",
          "name": "stdout",
          "text": [
            "Enter First LanguageEnglish\n",
            "Enter Second LanguageFrench\n",
            "Enetr Text to TranslateI love INDIA\n",
            "_------------------------------------\n",
            "Translate this English sentence to French : I love INDIA\n"
          ]
        }
      ]
    },
    {
      "cell_type": "code",
      "source": [],
      "metadata": {
        "id": "ff_niNLXZHJl"
      },
      "execution_count": null,
      "outputs": []
    }
  ]
}